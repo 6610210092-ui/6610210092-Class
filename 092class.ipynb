{
 "cells": [
  {
   "cell_type": "code",
   "execution_count": 1,
   "id": "7512e442-cbdd-4dc6-b1a3-fda3c398da9b",
   "metadata": {},
   "outputs": [
    {
     "name": "stdout",
     "output_type": "stream",
     "text": [
      "4.12.0\n"
     ]
    }
   ],
   "source": [
    "import cv2\n",
    "print(cv2.__version__)"
   ]
  },
  {
   "cell_type": "code",
   "execution_count": 7,
   "id": "6de1dc8f-9813-4ef5-8835-b51018cb64fa",
   "metadata": {},
   "outputs": [
    {
     "name": "stdout",
     "output_type": "stream",
     "text": [
      "Loaded 50 apple images\n",
      "Loaded 49 orange images\n"
     ]
    }
   ],
   "source": [
    "import os\n",
    "import cv2\n",
    "import numpy as np\n",
    "\n",
    "base_dir = \"D:/1_MyClasses/344-362/2568/dataset\"\n",
    "\n",
    "def load_images_from_folder(folder):\n",
    "    images = []\n",
    "    for filename in os.listdir(folder):\n",
    "        img = cv2.imread(os.path.join(folder, filename))\n",
    "        if img is not None:\n",
    "            images.append(img)\n",
    "    return images\n",
    "\n",
    "# โหลดข้อมูลรูปภาพ\n",
    "apple_images = load_images_from_folder(os.path.join(base_dir, \"apple\"))\n",
    "orange_images = load_images_from_folder(os.path.join(base_dir, \"orange\"))\n",
    "\n",
    "print(f\"Loaded {len(apple_images)} apple images\")\n",
    "print(f\"Loaded {len(orange_images)} orange images\")"
   ]
  },
  {
   "cell_type": "code",
   "execution_count": 10,
   "id": "8d8cdd13-0ba1-4b53-ac95-77babe16101c",
   "metadata": {},
   "outputs": [],
   "source": [
    "# 3. ปรับขนาดรูปภาพให้เท่ากัน (Example: resize to a common size 100x100)\n",
    "resized_apple_images = [cv2.resize(img, (100, 100)) for img in apple_images] #\n",
    "resized_orange_images = [cv2.resize(img, (100, 100)) for img in orange_images] #"
   ]
  },
  {
   "cell_type": "code",
   "execution_count": 9,
   "id": "75357484-d25e-4c57-afa7-a8013974e6ce",
   "metadata": {},
   "outputs": [
    {
     "name": "stdout",
     "output_type": "stream",
     "text": [
      "Flattened apple features shape (first image): (30000,)\n",
      "Flattened orange features shape (first image): (30000,)\n"
     ]
    }
   ],
   "source": [
    "# 4. แปลงรูปภาพเป็น feature vector (Flatten to 1D array)\n",
    "apple_features = [img.flatten() for img in resized_apple_images] #\n",
    "orange_features = [img.flatten() for img in resized_orange_images] #\n",
    "\n",
    "print(f\"Flattened apple features shape (first image): {apple_features[0].shape}\") #\n",
    "print(f\"Flattened orange features shape (first image): {orange_features[0].shape}\") #"
   ]
  },
  {
   "cell_type": "code",
   "execution_count": 12,
   "id": "a9317275-1be8-401a-8f2c-2c5aa83a6eb8",
   "metadata": {},
   "outputs": [
    {
     "name": "stdout",
     "output_type": "stream",
     "text": [
      "Training features shape: (79, 30000)\n",
      "Testing features shape: (20, 30000)\n",
      "Training labels shape: (79,)\n",
      "Testing labels shape: (20,)\n"
     ]
    }
   ],
   "source": [
    "from sklearn.model_selection import train_test_split\n",
    "\n",
    "# Create labels: 0 for apple, 1 for orange\n",
    "apple_labels = [0] * len(apple_features)\n",
    "orange_labels = [1] * len(orange_features)\n",
    "\n",
    "# Combine features and labels\n",
    "all_features = apple_features + orange_features\n",
    "all_labels = apple_labels + orange_labels\n",
    "\n",
    "# Convert to numpy arrays\n",
    "X = np.array(all_features)\n",
    "y = np.array(all_labels)\n",
    "\n",
    "# Split data into training and testing sets\n",
    "X_train, X_test, y_train, y_test = train_test_split(X, y, test_size=0.2, random_state=42)\n",
    "\n",
    "print(f\"Training features shape: {X_train.shape}\")\n",
    "print(f\"Testing features shape: {X_test.shape}\")\n",
    "print(f\"Training labels shape: {y_train.shape}\")\n",
    "print(f\"Testing labels shape: {y_test.shape}\")"
   ]
  },
  {
   "cell_type": "code",
   "execution_count": 13,
   "id": "de665813-7f21-4f07-a866-d4e362003390",
   "metadata": {},
   "outputs": [
    {
     "name": "stdout",
     "output_type": "stream",
     "text": [
      "Accuracy: 0.90\n",
      "\n",
      "Classification Report:\n",
      "              precision    recall  f1-score   support\n",
      "\n",
      "           0       0.92      0.92      0.92        12\n",
      "           1       0.88      0.88      0.88         8\n",
      "\n",
      "    accuracy                           0.90        20\n",
      "   macro avg       0.90      0.90      0.90        20\n",
      "weighted avg       0.90      0.90      0.90        20\n",
      "\n"
     ]
    }
   ],
   "source": [
    "from sklearn import svm\n",
    "from sklearn.metrics import accuracy_score, classification_report\n",
    "\n",
    "# Initialize and train the SVM classifier\n",
    "svm_model = svm.SVC(kernel='linear')\n",
    "svm_model.fit(X_train, y_train)\n",
    "\n",
    "# Predict on the test set\n",
    "y_pred = svm_model.predict(X_test)\n",
    "\n",
    "# Evaluate the model\n",
    "accuracy = accuracy_score(y_test, y_pred)\n",
    "print(f\"Accuracy: {accuracy:.2f}\")\n",
    "\n",
    "print(\"\\nClassification Report:\")\n",
    "print(classification_report(y_test, y_pred))"
   ]
  },
  {
   "cell_type": "code",
   "execution_count": 14,
   "id": "cfd25025-bcd7-4b18-b663-7f82efbc6dc9",
   "metadata": {},
   "outputs": [
    {
     "name": "stdout",
     "output_type": "stream",
     "text": [
      "Model saved to svm_image_classifier_model.pkl\n"
     ]
    }
   ],
   "source": [
    "import joblib\n",
    "\n",
    "# Save the trained model to a file\n",
    "filename = 'svm_image_classifier_model.pkl'\n",
    "joblib.dump(svm_model, filename)\n",
    "\n",
    "print(f\"Model saved to {filename}\")"
   ]
  },
  {
   "cell_type": "code",
   "execution_count": null,
   "id": "5d9a64de-b6b1-46ad-8c14-95d02eaed771",
   "metadata": {},
   "outputs": [],
   "source": []
  }
 ],
 "metadata": {
  "kernelspec": {
   "display_name": "Python 3 (ipykernel)",
   "language": "python",
   "name": "python3"
  },
  "language_info": {
   "codemirror_mode": {
    "name": "ipython",
    "version": 3
   },
   "file_extension": ".py",
   "mimetype": "text/x-python",
   "name": "python",
   "nbconvert_exporter": "python",
   "pygments_lexer": "ipython3",
   "version": "3.13.5"
  }
 },
 "nbformat": 4,
 "nbformat_minor": 5
}
